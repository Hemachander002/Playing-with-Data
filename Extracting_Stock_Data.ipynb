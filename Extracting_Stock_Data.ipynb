{
 "cells": [
  {
   "cell_type": "markdown",
   "metadata": {},
   "source": [
    "<h1>Extracting Stock Data Using a Python Library</h1>\n"
   ]
  },
  {
   "metadata": {},
   "cell_type": "markdown",
   "source": "## Lets play with data !!! :)"
  },
  {
   "metadata": {},
   "cell_type": "markdown",
   "source": [
    "### NOTE!\n",
    "The JSON files I used in my Jupyter Notebook were provided by Coursera"
   ]
  },
  {
   "cell_type": "code",
   "metadata": {
    "ExecuteTime": {
     "end_time": "2025-09-30T11:21:48.091599Z",
     "start_time": "2025-09-30T11:21:45.800538Z"
    }
   },
   "source": [
    "!pip install yfinance\n",
    "!pip install matplotlib\n",
    "# !pip install pandas==1.3.3"
   ],
   "outputs": [
    {
     "name": "stdout",
     "output_type": "stream",
     "text": [
      "Requirement already satisfied: yfinance in c:\\users\\rockie\\appdata\\local\\programs\\python\\python313\\lib\\site-packages (0.2.66)\n",
      "Requirement already satisfied: pandas>=1.3.0 in c:\\users\\rockie\\appdata\\local\\programs\\python\\python313\\lib\\site-packages (from yfinance) (2.3.3)\n",
      "Requirement already satisfied: numpy>=1.16.5 in c:\\users\\rockie\\appdata\\local\\programs\\python\\python313\\lib\\site-packages (from yfinance) (2.3.2)\n",
      "Requirement already satisfied: requests>=2.31 in c:\\users\\rockie\\appdata\\local\\programs\\python\\python313\\lib\\site-packages (from yfinance) (2.32.5)\n",
      "Requirement already satisfied: multitasking>=0.0.7 in c:\\users\\rockie\\appdata\\local\\programs\\python\\python313\\lib\\site-packages (from yfinance) (0.0.12)\n",
      "Requirement already satisfied: platformdirs>=2.0.0 in c:\\users\\rockie\\appdata\\local\\programs\\python\\python313\\lib\\site-packages (from yfinance) (4.4.0)\n",
      "Requirement already satisfied: pytz>=2022.5 in c:\\users\\rockie\\appdata\\local\\programs\\python\\python313\\lib\\site-packages (from yfinance) (2025.2)\n",
      "Requirement already satisfied: frozendict>=2.3.4 in c:\\users\\rockie\\appdata\\local\\programs\\python\\python313\\lib\\site-packages (from yfinance) (2.4.6)\n",
      "Requirement already satisfied: peewee>=3.16.2 in c:\\users\\rockie\\appdata\\local\\programs\\python\\python313\\lib\\site-packages (from yfinance) (3.18.2)\n",
      "Requirement already satisfied: beautifulsoup4>=4.11.1 in c:\\users\\rockie\\appdata\\local\\programs\\python\\python313\\lib\\site-packages (from yfinance) (4.14.2)\n",
      "Requirement already satisfied: curl_cffi>=0.7 in c:\\users\\rockie\\appdata\\local\\programs\\python\\python313\\lib\\site-packages (from yfinance) (0.13.0)\n",
      "Requirement already satisfied: protobuf>=3.19.0 in c:\\users\\rockie\\appdata\\local\\programs\\python\\python313\\lib\\site-packages (from yfinance) (6.32.0)\n",
      "Requirement already satisfied: websockets>=13.0 in c:\\users\\rockie\\appdata\\local\\programs\\python\\python313\\lib\\site-packages (from yfinance) (15.0.1)\n",
      "Requirement already satisfied: soupsieve>1.2 in c:\\users\\rockie\\appdata\\local\\programs\\python\\python313\\lib\\site-packages (from beautifulsoup4>=4.11.1->yfinance) (2.8)\n",
      "Requirement already satisfied: typing-extensions>=4.0.0 in c:\\users\\rockie\\appdata\\local\\programs\\python\\python313\\lib\\site-packages (from beautifulsoup4>=4.11.1->yfinance) (4.15.0)\n",
      "Requirement already satisfied: cffi>=1.12.0 in c:\\users\\rockie\\appdata\\local\\programs\\python\\python313\\lib\\site-packages (from curl_cffi>=0.7->yfinance) (2.0.0)\n",
      "Requirement already satisfied: certifi>=2024.2.2 in c:\\users\\rockie\\appdata\\local\\programs\\python\\python313\\lib\\site-packages (from curl_cffi>=0.7->yfinance) (2025.8.3)\n",
      "Requirement already satisfied: pycparser in c:\\users\\rockie\\appdata\\local\\programs\\python\\python313\\lib\\site-packages (from cffi>=1.12.0->curl_cffi>=0.7->yfinance) (2.22)\n",
      "Requirement already satisfied: python-dateutil>=2.8.2 in c:\\users\\rockie\\appdata\\local\\programs\\python\\python313\\lib\\site-packages (from pandas>=1.3.0->yfinance) (2.9.0.post0)\n",
      "Requirement already satisfied: tzdata>=2022.7 in c:\\users\\rockie\\appdata\\local\\programs\\python\\python313\\lib\\site-packages (from pandas>=1.3.0->yfinance) (2025.2)\n",
      "Requirement already satisfied: six>=1.5 in c:\\users\\rockie\\appdata\\local\\programs\\python\\python313\\lib\\site-packages (from python-dateutil>=2.8.2->pandas>=1.3.0->yfinance) (1.17.0)\n",
      "Requirement already satisfied: charset_normalizer<4,>=2 in c:\\users\\rockie\\appdata\\local\\programs\\python\\python313\\lib\\site-packages (from requests>=2.31->yfinance) (2.0.12)\n",
      "Requirement already satisfied: idna<4,>=2.5 in c:\\users\\rockie\\appdata\\local\\programs\\python\\python313\\lib\\site-packages (from requests>=2.31->yfinance) (3.10)\n",
      "Requirement already satisfied: urllib3<3,>=1.21.1 in c:\\users\\rockie\\appdata\\local\\programs\\python\\python313\\lib\\site-packages (from requests>=2.31->yfinance) (1.26.20)\n",
      "Requirement already satisfied: matplotlib in c:\\users\\rockie\\appdata\\local\\programs\\python\\python313\\lib\\site-packages (3.10.5)\n",
      "Requirement already satisfied: contourpy>=1.0.1 in c:\\users\\rockie\\appdata\\local\\programs\\python\\python313\\lib\\site-packages (from matplotlib) (1.3.3)\n",
      "Requirement already satisfied: cycler>=0.10 in c:\\users\\rockie\\appdata\\local\\programs\\python\\python313\\lib\\site-packages (from matplotlib) (0.12.1)\n",
      "Requirement already satisfied: fonttools>=4.22.0 in c:\\users\\rockie\\appdata\\local\\programs\\python\\python313\\lib\\site-packages (from matplotlib) (4.59.1)\n",
      "Requirement already satisfied: kiwisolver>=1.3.1 in c:\\users\\rockie\\appdata\\local\\programs\\python\\python313\\lib\\site-packages (from matplotlib) (1.4.9)\n",
      "Requirement already satisfied: numpy>=1.23 in c:\\users\\rockie\\appdata\\local\\programs\\python\\python313\\lib\\site-packages (from matplotlib) (2.3.2)\n",
      "Requirement already satisfied: packaging>=20.0 in c:\\users\\rockie\\appdata\\local\\programs\\python\\python313\\lib\\site-packages (from matplotlib) (25.0)\n",
      "Requirement already satisfied: pillow>=8 in c:\\users\\rockie\\appdata\\local\\programs\\python\\python313\\lib\\site-packages (from matplotlib) (11.3.0)\n",
      "Requirement already satisfied: pyparsing>=2.3.1 in c:\\users\\rockie\\appdata\\local\\programs\\python\\python313\\lib\\site-packages (from matplotlib) (3.2.3)\n",
      "Requirement already satisfied: python-dateutil>=2.7 in c:\\users\\rockie\\appdata\\local\\programs\\python\\python313\\lib\\site-packages (from matplotlib) (2.9.0.post0)\n",
      "Requirement already satisfied: six>=1.5 in c:\\users\\rockie\\appdata\\local\\programs\\python\\python313\\lib\\site-packages (from python-dateutil>=2.7->matplotlib) (1.17.0)\n"
     ]
    }
   ],
   "execution_count": 1
  },
  {
   "cell_type": "code",
   "metadata": {
    "ExecuteTime": {
     "end_time": "2025-09-30T11:21:48.950552Z",
     "start_time": "2025-09-30T11:21:48.114867Z"
    }
   },
   "source": [
    "import yfinance as yf\n",
    "import pandas as pd"
   ],
   "outputs": [],
   "execution_count": 2
  },
  {
   "cell_type": "markdown",
   "metadata": {},
   "source": [
    "## Using the yfinance Library to Extract Stock Data\n"
   ]
  },
  {
   "cell_type": "code",
   "metadata": {
    "ExecuteTime": {
     "end_time": "2025-09-30T11:21:49.117782Z",
     "start_time": "2025-09-30T11:21:49.113052Z"
    }
   },
   "source": [
    "apple = yf.Ticker(\"AAPL\")\n",
    "apple"
   ],
   "outputs": [
    {
     "data": {
      "text/plain": [
       "yfinance.Ticker object <AAPL>"
      ]
     },
     "execution_count": 3,
     "metadata": {},
     "output_type": "execute_result"
    }
   ],
   "execution_count": 3
  },
  {
   "cell_type": "code",
   "metadata": {
    "ExecuteTime": {
     "end_time": "2025-09-30T11:21:50.635250Z",
     "start_time": "2025-09-30T11:21:49.135442Z"
    }
   },
   "source": [
    "import requests\n",
    "import json\n",
    "url = 'https://cf-courses-data.s3.us.cloud-object-storage.appdomain.cloud/IBMDeveloperSkillsNetwork-PY0220EN-SkillsNetwork/data/apple.json'\n",
    "headers = {\n",
    "    \"User-Agent\": \"Mozilla/5.0 (Windows NT 10.0; Win64; x64) AppleWebKit/537.36 (KHTML, like Gecko) Chrome/108.0.0.0 Safari/537.36\"\n",
    "}\n",
    "response = requests.get(url,headers=headers)\n",
    "with open('apple.json','w') as f:\n",
    "    f.write(response.text)\n",
    "\n",
    "with open('apple.json','r') as f:\n",
    "    data = json.load(f)\n",
    "\n",
    "with open('apple.json','w') as f:\n",
    "    json.dump(data,f,indent=4)\n"
   ],
   "outputs": [],
   "execution_count": 4
  },
  {
   "cell_type": "markdown",
   "metadata": {},
   "source": [
    "### Stock Info\n"
   ]
  },
  {
   "cell_type": "code",
   "metadata": {
    "ExecuteTime": {
     "end_time": "2025-09-30T11:21:50.652909Z",
     "start_time": "2025-09-30T11:21:50.646659Z"
    }
   },
   "source": [
    "import json\n",
    "with open('apple.json') as json_file:\n",
    "    apple_info = json.load(json_file)\n",
    "    print(\"Type:\", type(apple_info))\n",
    "apple_info"
   ],
   "outputs": [
    {
     "name": "stdout",
     "output_type": "stream",
     "text": [
      "Type: <class 'dict'>\n"
     ]
    },
    {
     "data": {
      "text/plain": [
       "{'zip': '95014',\n",
       " 'sector': 'Technology',\n",
       " 'fullTimeEmployees': 100000,\n",
       " 'longBusinessSummary': 'Apple Inc. designs, manufactures, and markets smartphones, personal computers, tablets, wearables, and accessories worldwide. It also sells various related services. In addition, the company offers iPhone, a line of smartphones; Mac, a line of personal computers; iPad, a line of multi-purpose tablets; AirPods Max, an over-ear wireless headphone; and wearables, home, and accessories comprising AirPods, Apple TV, Apple Watch, Beats products, HomePod, and iPod touch. Further, it provides AppleCare support services; cloud services store services; and operates various platforms, including the App Store that allow customers to discover and download applications and digital content, such as books, music, video, games, and podcasts. Additionally, the company offers various services, such as Apple Arcade, a game subscription service; Apple Music, which offers users a curated listening experience with on-demand radio stations; Apple News+, a subscription news and magazine service; Apple TV+, which offers exclusive original content; Apple Card, a co-branded credit card; and Apple Pay, a cashless payment service, as well as licenses its intellectual property. The company serves consumers, and small and mid-sized businesses; and the education, enterprise, and government markets. It distributes third-party applications for its products through the App Store. The company also sells its products through its retail and online stores, and direct sales force; and third-party cellular network carriers, wholesalers, retailers, and resellers. Apple Inc. was incorporated in 1977 and is headquartered in Cupertino, California.',\n",
       " 'city': 'Cupertino',\n",
       " 'phone': '408 996 1010',\n",
       " 'state': 'CA',\n",
       " 'country': 'United States',\n",
       " 'companyOfficers': [],\n",
       " 'website': 'https://www.apple.com',\n",
       " 'maxAge': 1,\n",
       " 'address1': 'One Apple Park Way',\n",
       " 'industry': 'Consumer Electronics',\n",
       " 'ebitdaMargins': 0.33890998,\n",
       " 'profitMargins': 0.26579002,\n",
       " 'grossMargins': 0.43019,\n",
       " 'operatingCashflow': 112241000448,\n",
       " 'revenueGrowth': 0.112,\n",
       " 'operatingMargins': 0.309,\n",
       " 'ebitda': 128217997312,\n",
       " 'targetLowPrice': 160,\n",
       " 'recommendationKey': 'buy',\n",
       " 'grossProfits': 152836000000,\n",
       " 'freeCashflow': 80153247744,\n",
       " 'targetMedianPrice': 199.5,\n",
       " 'currentPrice': 177.77,\n",
       " 'earningsGrowth': 0.25,\n",
       " 'currentRatio': 1.038,\n",
       " 'returnOnAssets': 0.19875,\n",
       " 'numberOfAnalystOpinions': 44,\n",
       " 'targetMeanPrice': 193.53,\n",
       " 'debtToEquity': 170.714,\n",
       " 'returnOnEquity': 1.45567,\n",
       " 'targetHighPrice': 215,\n",
       " 'totalCash': 63913000960,\n",
       " 'totalDebt': 122797998080,\n",
       " 'totalRevenue': 378323009536,\n",
       " 'totalCashPerShare': 3.916,\n",
       " 'financialCurrency': 'USD',\n",
       " 'revenuePerShare': 22.838,\n",
       " 'quickRatio': 0.875,\n",
       " 'recommendationMean': 1.8,\n",
       " 'exchange': 'NMS',\n",
       " 'shortName': 'Apple Inc.',\n",
       " 'longName': 'Apple Inc.',\n",
       " 'exchangeTimezoneName': 'America/New_York',\n",
       " 'exchangeTimezoneShortName': 'EDT',\n",
       " 'isEsgPopulated': False,\n",
       " 'gmtOffSetMilliseconds': '-14400000',\n",
       " 'quoteType': 'EQUITY',\n",
       " 'symbol': 'AAPL',\n",
       " 'messageBoardId': 'finmb_24937',\n",
       " 'market': 'us_market',\n",
       " 'annualHoldingsTurnover': None,\n",
       " 'enterpriseToRevenue': 7.824,\n",
       " 'beta3Year': None,\n",
       " 'enterpriseToEbitda': 23.086,\n",
       " '52WeekChange': 0.4549594,\n",
       " 'morningStarRiskRating': None,\n",
       " 'forwardEps': 6.56,\n",
       " 'revenueQuarterlyGrowth': None,\n",
       " 'sharesOutstanding': 16319399936,\n",
       " 'fundInceptionDate': None,\n",
       " 'annualReportExpenseRatio': None,\n",
       " 'totalAssets': None,\n",
       " 'bookValue': 4.402,\n",
       " 'sharesShort': 111286790,\n",
       " 'sharesPercentSharesOut': 0.0068,\n",
       " 'fundFamily': None,\n",
       " 'lastFiscalYearEnd': 1632528000,\n",
       " 'heldPercentInstitutions': 0.59397,\n",
       " 'netIncomeToCommon': 100554997760,\n",
       " 'trailingEps': 6.015,\n",
       " 'lastDividendValue': 0.22,\n",
       " 'SandP52WeekChange': 0.15217662,\n",
       " 'priceToBook': 40.38392,\n",
       " 'heldPercentInsiders': 0.0007,\n",
       " 'nextFiscalYearEnd': 1695600000,\n",
       " 'yield': None,\n",
       " 'mostRecentQuarter': 1640390400,\n",
       " 'shortRatio': 1.21,\n",
       " 'sharesShortPreviousMonthDate': 1644883200,\n",
       " 'floatShares': 16302795170,\n",
       " 'beta': 1.185531,\n",
       " 'enterpriseValue': 2959991898112,\n",
       " 'priceHint': 2,\n",
       " 'threeYearAverageReturn': None,\n",
       " 'lastSplitDate': 1598832000,\n",
       " 'lastSplitFactor': '4:1',\n",
       " 'legalType': None,\n",
       " 'lastDividendDate': 1643932800,\n",
       " 'morningStarOverallRating': None,\n",
       " 'earningsQuarterlyGrowth': 0.204,\n",
       " 'priceToSalesTrailing12Months': 7.668314,\n",
       " 'dateShortInterest': 1647302400,\n",
       " 'pegRatio': 1.94,\n",
       " 'ytdReturn': None,\n",
       " 'forwardPE': 27.099087,\n",
       " 'lastCapGain': None,\n",
       " 'shortPercentOfFloat': 0.0068,\n",
       " 'sharesShortPriorMonth': 108944701,\n",
       " 'impliedSharesOutstanding': 0,\n",
       " 'category': None,\n",
       " 'fiveYearAverageReturn': None,\n",
       " 'previousClose': 178.96,\n",
       " 'regularMarketOpen': 178.55,\n",
       " 'twoHundredDayAverage': 156.03505,\n",
       " 'trailingAnnualDividendYield': 0.004833482,\n",
       " 'payoutRatio': 0.1434,\n",
       " 'volume24Hr': None,\n",
       " 'regularMarketDayHigh': 179.61,\n",
       " 'navPrice': None,\n",
       " 'averageDailyVolume10Day': 93823630,\n",
       " 'regularMarketPreviousClose': 178.96,\n",
       " 'fiftyDayAverage': 166.498,\n",
       " 'trailingAnnualDividendRate': 0.865,\n",
       " 'open': 178.55,\n",
       " 'toCurrency': None,\n",
       " 'averageVolume10days': 93823630,\n",
       " 'expireDate': None,\n",
       " 'algorithm': None,\n",
       " 'dividendRate': 0.88,\n",
       " 'exDividendDate': 1643932800,\n",
       " 'circulatingSupply': None,\n",
       " 'startDate': None,\n",
       " 'regularMarketDayLow': 176.7,\n",
       " 'currency': 'USD',\n",
       " 'trailingPE': 29.55445,\n",
       " 'regularMarketVolume': 92633154,\n",
       " 'lastMarket': None,\n",
       " 'maxSupply': None,\n",
       " 'openInterest': None,\n",
       " 'marketCap': 2901099675648,\n",
       " 'volumeAllCurrencies': None,\n",
       " 'strikePrice': None,\n",
       " 'averageVolume': 95342043,\n",
       " 'dayLow': 176.7,\n",
       " 'ask': 178.53,\n",
       " 'askSize': 800,\n",
       " 'volume': 92633154,\n",
       " 'fiftyTwoWeekHigh': 182.94,\n",
       " 'fromCurrency': None,\n",
       " 'fiveYearAvgDividendYield': 1.13,\n",
       " 'fiftyTwoWeekLow': 122.25,\n",
       " 'bid': 178.4,\n",
       " 'tradeable': False,\n",
       " 'dividendYield': 0.005,\n",
       " 'bidSize': 3200,\n",
       " 'dayHigh': 179.61,\n",
       " 'regularMarketPrice': 177.77,\n",
       " 'preMarketPrice': 178.38,\n",
       " 'logo_url': 'https://logo.clearbit.com/apple.com'}"
      ]
     },
     "execution_count": 5,
     "metadata": {},
     "output_type": "execute_result"
    }
   ],
   "execution_count": 5
  },
  {
   "cell_type": "code",
   "metadata": {
    "ExecuteTime": {
     "end_time": "2025-09-30T11:21:50.695776Z",
     "start_time": "2025-09-30T11:21:50.692595Z"
    }
   },
   "source": [
    "apple_info['country']"
   ],
   "outputs": [
    {
     "data": {
      "text/plain": [
       "'United States'"
      ]
     },
     "execution_count": 6,
     "metadata": {},
     "output_type": "execute_result"
    }
   ],
   "execution_count": 6
  },
  {
   "metadata": {
    "ExecuteTime": {
     "end_time": "2025-09-30T11:21:51.483673Z",
     "start_time": "2025-09-30T11:21:50.727419Z"
    }
   },
   "cell_type": "code",
   "source": "apple.financials",
   "outputs": [
    {
     "data": {
      "text/plain": [
       "                                                      2024-09-30  \\\n",
       "Tax Effect Of Unusual Items                         0.000000e+00   \n",
       "Tax Rate For Calcs                                  2.410000e-01   \n",
       "Normalized EBITDA                                   1.346610e+11   \n",
       "Net Income From Continuing Operation Net Minori...  9.373600e+10   \n",
       "Reconciled Depreciation                             1.144500e+10   \n",
       "Reconciled Cost Of Revenue                          2.103520e+11   \n",
       "EBITDA                                              1.346610e+11   \n",
       "EBIT                                                1.232160e+11   \n",
       "Net Interest Income                                          NaN   \n",
       "Interest Expense                                             NaN   \n",
       "Interest Income                                              NaN   \n",
       "Normalized Income                                   9.373600e+10   \n",
       "Net Income From Continuing And Discontinued Ope...  9.373600e+10   \n",
       "Total Expenses                                      2.678190e+11   \n",
       "Total Operating Income As Reported                  1.232160e+11   \n",
       "Diluted Average Shares                              1.540810e+10   \n",
       "Basic Average Shares                                1.534378e+10   \n",
       "Diluted EPS                                         6.080000e+00   \n",
       "Basic EPS                                           6.110000e+00   \n",
       "Diluted NI Availto Com Stockholders                 9.373600e+10   \n",
       "Net Income Common Stockholders                      9.373600e+10   \n",
       "Net Income                                          9.373600e+10   \n",
       "Net Income Including Noncontrolling Interests       9.373600e+10   \n",
       "Net Income Continuous Operations                    9.373600e+10   \n",
       "Tax Provision                                       2.974900e+10   \n",
       "Pretax Income                                       1.234850e+11   \n",
       "Other Income Expense                                2.690000e+08   \n",
       "Other Non Operating Income Expenses                 2.690000e+08   \n",
       "Net Non Operating Interest Income Expense                    NaN   \n",
       "Interest Expense Non Operating                               NaN   \n",
       "Interest Income Non Operating                                NaN   \n",
       "Operating Income                                    1.232160e+11   \n",
       "Operating Expense                                   5.746700e+10   \n",
       "Research And Development                            3.137000e+10   \n",
       "Selling General And Administration                  2.609700e+10   \n",
       "Gross Profit                                        1.806830e+11   \n",
       "Cost Of Revenue                                     2.103520e+11   \n",
       "Total Revenue                                       3.910350e+11   \n",
       "Operating Revenue                                   3.910350e+11   \n",
       "\n",
       "                                                      2023-09-30  \\\n",
       "Tax Effect Of Unusual Items                         0.000000e+00   \n",
       "Tax Rate For Calcs                                  1.470000e-01   \n",
       "Normalized EBITDA                                   1.258200e+11   \n",
       "Net Income From Continuing Operation Net Minori...  9.699500e+10   \n",
       "Reconciled Depreciation                             1.151900e+10   \n",
       "Reconciled Cost Of Revenue                          2.141370e+11   \n",
       "EBITDA                                              1.258200e+11   \n",
       "EBIT                                                1.143010e+11   \n",
       "Net Interest Income                                -1.830000e+08   \n",
       "Interest Expense                                    3.933000e+09   \n",
       "Interest Income                                     3.750000e+09   \n",
       "Normalized Income                                   9.699500e+10   \n",
       "Net Income From Continuing And Discontinued Ope...  9.699500e+10   \n",
       "Total Expenses                                      2.689840e+11   \n",
       "Total Operating Income As Reported                  1.143010e+11   \n",
       "Diluted Average Shares                              1.581255e+10   \n",
       "Basic Average Shares                                1.574423e+10   \n",
       "Diluted EPS                                         6.130000e+00   \n",
       "Basic EPS                                           6.160000e+00   \n",
       "Diluted NI Availto Com Stockholders                 9.699500e+10   \n",
       "Net Income Common Stockholders                      9.699500e+10   \n",
       "Net Income                                          9.699500e+10   \n",
       "Net Income Including Noncontrolling Interests       9.699500e+10   \n",
       "Net Income Continuous Operations                    9.699500e+10   \n",
       "Tax Provision                                       1.674100e+10   \n",
       "Pretax Income                                       1.137360e+11   \n",
       "Other Income Expense                               -5.650000e+08   \n",
       "Other Non Operating Income Expenses                -5.650000e+08   \n",
       "Net Non Operating Interest Income Expense          -1.830000e+08   \n",
       "Interest Expense Non Operating                      3.933000e+09   \n",
       "Interest Income Non Operating                       3.750000e+09   \n",
       "Operating Income                                    1.143010e+11   \n",
       "Operating Expense                                   5.484700e+10   \n",
       "Research And Development                            2.991500e+10   \n",
       "Selling General And Administration                  2.493200e+10   \n",
       "Gross Profit                                        1.691480e+11   \n",
       "Cost Of Revenue                                     2.141370e+11   \n",
       "Total Revenue                                       3.832850e+11   \n",
       "Operating Revenue                                   3.832850e+11   \n",
       "\n",
       "                                                      2022-09-30    2021-09-30  \n",
       "Tax Effect Of Unusual Items                         0.000000e+00  0.000000e+00  \n",
       "Tax Rate For Calcs                                  1.620000e-01  1.330000e-01  \n",
       "Normalized EBITDA                                   1.305410e+11  1.231360e+11  \n",
       "Net Income From Continuing Operation Net Minori...  9.980300e+10  9.468000e+10  \n",
       "Reconciled Depreciation                             1.110400e+10  1.128400e+10  \n",
       "Reconciled Cost Of Revenue                          2.235460e+11  2.129810e+11  \n",
       "EBITDA                                              1.305410e+11  1.231360e+11  \n",
       "EBIT                                                1.194370e+11  1.118520e+11  \n",
       "Net Interest Income                                -1.060000e+08  1.980000e+08  \n",
       "Interest Expense                                    2.931000e+09  2.645000e+09  \n",
       "Interest Income                                     2.825000e+09  2.843000e+09  \n",
       "Normalized Income                                   9.980300e+10  9.468000e+10  \n",
       "Net Income From Continuing And Discontinued Ope...  9.980300e+10  9.468000e+10  \n",
       "Total Expenses                                      2.748910e+11  2.568680e+11  \n",
       "Total Operating Income As Reported                  1.194370e+11  1.089490e+11  \n",
       "Diluted Average Shares                              1.632582e+10  1.686492e+10  \n",
       "Basic Average Shares                                1.621596e+10  1.670127e+10  \n",
       "Diluted EPS                                         6.110000e+00  5.610000e+00  \n",
       "Basic EPS                                           6.150000e+00  5.670000e+00  \n",
       "Diluted NI Availto Com Stockholders                 9.980300e+10  9.468000e+10  \n",
       "Net Income Common Stockholders                      9.980300e+10  9.468000e+10  \n",
       "Net Income                                          9.980300e+10  9.468000e+10  \n",
       "Net Income Including Noncontrolling Interests       9.980300e+10  9.468000e+10  \n",
       "Net Income Continuous Operations                    9.980300e+10  9.468000e+10  \n",
       "Tax Provision                                       1.930000e+10  1.452700e+10  \n",
       "Pretax Income                                       1.191030e+11  1.092070e+11  \n",
       "Other Income Expense                               -3.340000e+08  6.000000e+07  \n",
       "Other Non Operating Income Expenses                -3.340000e+08  6.000000e+07  \n",
       "Net Non Operating Interest Income Expense          -1.060000e+08  1.980000e+08  \n",
       "Interest Expense Non Operating                      2.931000e+09  2.645000e+09  \n",
       "Interest Income Non Operating                       2.825000e+09  2.843000e+09  \n",
       "Operating Income                                    1.194370e+11  1.089490e+11  \n",
       "Operating Expense                                   5.134500e+10  4.388700e+10  \n",
       "Research And Development                            2.625100e+10  2.191400e+10  \n",
       "Selling General And Administration                  2.509400e+10  2.197300e+10  \n",
       "Gross Profit                                        1.707820e+11  1.528360e+11  \n",
       "Cost Of Revenue                                     2.235460e+11  2.129810e+11  \n",
       "Total Revenue                                       3.943280e+11  3.658170e+11  \n",
       "Operating Revenue                                   3.943280e+11  3.658170e+11  "
      ],
      "text/html": [
       "<div>\n",
       "<style scoped>\n",
       "    .dataframe tbody tr th:only-of-type {\n",
       "        vertical-align: middle;\n",
       "    }\n",
       "\n",
       "    .dataframe tbody tr th {\n",
       "        vertical-align: top;\n",
       "    }\n",
       "\n",
       "    .dataframe thead th {\n",
       "        text-align: right;\n",
       "    }\n",
       "</style>\n",
       "<table border=\"1\" class=\"dataframe\">\n",
       "  <thead>\n",
       "    <tr style=\"text-align: right;\">\n",
       "      <th></th>\n",
       "      <th>2024-09-30</th>\n",
       "      <th>2023-09-30</th>\n",
       "      <th>2022-09-30</th>\n",
       "      <th>2021-09-30</th>\n",
       "    </tr>\n",
       "  </thead>\n",
       "  <tbody>\n",
       "    <tr>\n",
       "      <th>Tax Effect Of Unusual Items</th>\n",
       "      <td>0.000000e+00</td>\n",
       "      <td>0.000000e+00</td>\n",
       "      <td>0.000000e+00</td>\n",
       "      <td>0.000000e+00</td>\n",
       "    </tr>\n",
       "    <tr>\n",
       "      <th>Tax Rate For Calcs</th>\n",
       "      <td>2.410000e-01</td>\n",
       "      <td>1.470000e-01</td>\n",
       "      <td>1.620000e-01</td>\n",
       "      <td>1.330000e-01</td>\n",
       "    </tr>\n",
       "    <tr>\n",
       "      <th>Normalized EBITDA</th>\n",
       "      <td>1.346610e+11</td>\n",
       "      <td>1.258200e+11</td>\n",
       "      <td>1.305410e+11</td>\n",
       "      <td>1.231360e+11</td>\n",
       "    </tr>\n",
       "    <tr>\n",
       "      <th>Net Income From Continuing Operation Net Minority Interest</th>\n",
       "      <td>9.373600e+10</td>\n",
       "      <td>9.699500e+10</td>\n",
       "      <td>9.980300e+10</td>\n",
       "      <td>9.468000e+10</td>\n",
       "    </tr>\n",
       "    <tr>\n",
       "      <th>Reconciled Depreciation</th>\n",
       "      <td>1.144500e+10</td>\n",
       "      <td>1.151900e+10</td>\n",
       "      <td>1.110400e+10</td>\n",
       "      <td>1.128400e+10</td>\n",
       "    </tr>\n",
       "    <tr>\n",
       "      <th>Reconciled Cost Of Revenue</th>\n",
       "      <td>2.103520e+11</td>\n",
       "      <td>2.141370e+11</td>\n",
       "      <td>2.235460e+11</td>\n",
       "      <td>2.129810e+11</td>\n",
       "    </tr>\n",
       "    <tr>\n",
       "      <th>EBITDA</th>\n",
       "      <td>1.346610e+11</td>\n",
       "      <td>1.258200e+11</td>\n",
       "      <td>1.305410e+11</td>\n",
       "      <td>1.231360e+11</td>\n",
       "    </tr>\n",
       "    <tr>\n",
       "      <th>EBIT</th>\n",
       "      <td>1.232160e+11</td>\n",
       "      <td>1.143010e+11</td>\n",
       "      <td>1.194370e+11</td>\n",
       "      <td>1.118520e+11</td>\n",
       "    </tr>\n",
       "    <tr>\n",
       "      <th>Net Interest Income</th>\n",
       "      <td>NaN</td>\n",
       "      <td>-1.830000e+08</td>\n",
       "      <td>-1.060000e+08</td>\n",
       "      <td>1.980000e+08</td>\n",
       "    </tr>\n",
       "    <tr>\n",
       "      <th>Interest Expense</th>\n",
       "      <td>NaN</td>\n",
       "      <td>3.933000e+09</td>\n",
       "      <td>2.931000e+09</td>\n",
       "      <td>2.645000e+09</td>\n",
       "    </tr>\n",
       "    <tr>\n",
       "      <th>Interest Income</th>\n",
       "      <td>NaN</td>\n",
       "      <td>3.750000e+09</td>\n",
       "      <td>2.825000e+09</td>\n",
       "      <td>2.843000e+09</td>\n",
       "    </tr>\n",
       "    <tr>\n",
       "      <th>Normalized Income</th>\n",
       "      <td>9.373600e+10</td>\n",
       "      <td>9.699500e+10</td>\n",
       "      <td>9.980300e+10</td>\n",
       "      <td>9.468000e+10</td>\n",
       "    </tr>\n",
       "    <tr>\n",
       "      <th>Net Income From Continuing And Discontinued Operation</th>\n",
       "      <td>9.373600e+10</td>\n",
       "      <td>9.699500e+10</td>\n",
       "      <td>9.980300e+10</td>\n",
       "      <td>9.468000e+10</td>\n",
       "    </tr>\n",
       "    <tr>\n",
       "      <th>Total Expenses</th>\n",
       "      <td>2.678190e+11</td>\n",
       "      <td>2.689840e+11</td>\n",
       "      <td>2.748910e+11</td>\n",
       "      <td>2.568680e+11</td>\n",
       "    </tr>\n",
       "    <tr>\n",
       "      <th>Total Operating Income As Reported</th>\n",
       "      <td>1.232160e+11</td>\n",
       "      <td>1.143010e+11</td>\n",
       "      <td>1.194370e+11</td>\n",
       "      <td>1.089490e+11</td>\n",
       "    </tr>\n",
       "    <tr>\n",
       "      <th>Diluted Average Shares</th>\n",
       "      <td>1.540810e+10</td>\n",
       "      <td>1.581255e+10</td>\n",
       "      <td>1.632582e+10</td>\n",
       "      <td>1.686492e+10</td>\n",
       "    </tr>\n",
       "    <tr>\n",
       "      <th>Basic Average Shares</th>\n",
       "      <td>1.534378e+10</td>\n",
       "      <td>1.574423e+10</td>\n",
       "      <td>1.621596e+10</td>\n",
       "      <td>1.670127e+10</td>\n",
       "    </tr>\n",
       "    <tr>\n",
       "      <th>Diluted EPS</th>\n",
       "      <td>6.080000e+00</td>\n",
       "      <td>6.130000e+00</td>\n",
       "      <td>6.110000e+00</td>\n",
       "      <td>5.610000e+00</td>\n",
       "    </tr>\n",
       "    <tr>\n",
       "      <th>Basic EPS</th>\n",
       "      <td>6.110000e+00</td>\n",
       "      <td>6.160000e+00</td>\n",
       "      <td>6.150000e+00</td>\n",
       "      <td>5.670000e+00</td>\n",
       "    </tr>\n",
       "    <tr>\n",
       "      <th>Diluted NI Availto Com Stockholders</th>\n",
       "      <td>9.373600e+10</td>\n",
       "      <td>9.699500e+10</td>\n",
       "      <td>9.980300e+10</td>\n",
       "      <td>9.468000e+10</td>\n",
       "    </tr>\n",
       "    <tr>\n",
       "      <th>Net Income Common Stockholders</th>\n",
       "      <td>9.373600e+10</td>\n",
       "      <td>9.699500e+10</td>\n",
       "      <td>9.980300e+10</td>\n",
       "      <td>9.468000e+10</td>\n",
       "    </tr>\n",
       "    <tr>\n",
       "      <th>Net Income</th>\n",
       "      <td>9.373600e+10</td>\n",
       "      <td>9.699500e+10</td>\n",
       "      <td>9.980300e+10</td>\n",
       "      <td>9.468000e+10</td>\n",
       "    </tr>\n",
       "    <tr>\n",
       "      <th>Net Income Including Noncontrolling Interests</th>\n",
       "      <td>9.373600e+10</td>\n",
       "      <td>9.699500e+10</td>\n",
       "      <td>9.980300e+10</td>\n",
       "      <td>9.468000e+10</td>\n",
       "    </tr>\n",
       "    <tr>\n",
       "      <th>Net Income Continuous Operations</th>\n",
       "      <td>9.373600e+10</td>\n",
       "      <td>9.699500e+10</td>\n",
       "      <td>9.980300e+10</td>\n",
       "      <td>9.468000e+10</td>\n",
       "    </tr>\n",
       "    <tr>\n",
       "      <th>Tax Provision</th>\n",
       "      <td>2.974900e+10</td>\n",
       "      <td>1.674100e+10</td>\n",
       "      <td>1.930000e+10</td>\n",
       "      <td>1.452700e+10</td>\n",
       "    </tr>\n",
       "    <tr>\n",
       "      <th>Pretax Income</th>\n",
       "      <td>1.234850e+11</td>\n",
       "      <td>1.137360e+11</td>\n",
       "      <td>1.191030e+11</td>\n",
       "      <td>1.092070e+11</td>\n",
       "    </tr>\n",
       "    <tr>\n",
       "      <th>Other Income Expense</th>\n",
       "      <td>2.690000e+08</td>\n",
       "      <td>-5.650000e+08</td>\n",
       "      <td>-3.340000e+08</td>\n",
       "      <td>6.000000e+07</td>\n",
       "    </tr>\n",
       "    <tr>\n",
       "      <th>Other Non Operating Income Expenses</th>\n",
       "      <td>2.690000e+08</td>\n",
       "      <td>-5.650000e+08</td>\n",
       "      <td>-3.340000e+08</td>\n",
       "      <td>6.000000e+07</td>\n",
       "    </tr>\n",
       "    <tr>\n",
       "      <th>Net Non Operating Interest Income Expense</th>\n",
       "      <td>NaN</td>\n",
       "      <td>-1.830000e+08</td>\n",
       "      <td>-1.060000e+08</td>\n",
       "      <td>1.980000e+08</td>\n",
       "    </tr>\n",
       "    <tr>\n",
       "      <th>Interest Expense Non Operating</th>\n",
       "      <td>NaN</td>\n",
       "      <td>3.933000e+09</td>\n",
       "      <td>2.931000e+09</td>\n",
       "      <td>2.645000e+09</td>\n",
       "    </tr>\n",
       "    <tr>\n",
       "      <th>Interest Income Non Operating</th>\n",
       "      <td>NaN</td>\n",
       "      <td>3.750000e+09</td>\n",
       "      <td>2.825000e+09</td>\n",
       "      <td>2.843000e+09</td>\n",
       "    </tr>\n",
       "    <tr>\n",
       "      <th>Operating Income</th>\n",
       "      <td>1.232160e+11</td>\n",
       "      <td>1.143010e+11</td>\n",
       "      <td>1.194370e+11</td>\n",
       "      <td>1.089490e+11</td>\n",
       "    </tr>\n",
       "    <tr>\n",
       "      <th>Operating Expense</th>\n",
       "      <td>5.746700e+10</td>\n",
       "      <td>5.484700e+10</td>\n",
       "      <td>5.134500e+10</td>\n",
       "      <td>4.388700e+10</td>\n",
       "    </tr>\n",
       "    <tr>\n",
       "      <th>Research And Development</th>\n",
       "      <td>3.137000e+10</td>\n",
       "      <td>2.991500e+10</td>\n",
       "      <td>2.625100e+10</td>\n",
       "      <td>2.191400e+10</td>\n",
       "    </tr>\n",
       "    <tr>\n",
       "      <th>Selling General And Administration</th>\n",
       "      <td>2.609700e+10</td>\n",
       "      <td>2.493200e+10</td>\n",
       "      <td>2.509400e+10</td>\n",
       "      <td>2.197300e+10</td>\n",
       "    </tr>\n",
       "    <tr>\n",
       "      <th>Gross Profit</th>\n",
       "      <td>1.806830e+11</td>\n",
       "      <td>1.691480e+11</td>\n",
       "      <td>1.707820e+11</td>\n",
       "      <td>1.528360e+11</td>\n",
       "    </tr>\n",
       "    <tr>\n",
       "      <th>Cost Of Revenue</th>\n",
       "      <td>2.103520e+11</td>\n",
       "      <td>2.141370e+11</td>\n",
       "      <td>2.235460e+11</td>\n",
       "      <td>2.129810e+11</td>\n",
       "    </tr>\n",
       "    <tr>\n",
       "      <th>Total Revenue</th>\n",
       "      <td>3.910350e+11</td>\n",
       "      <td>3.832850e+11</td>\n",
       "      <td>3.943280e+11</td>\n",
       "      <td>3.658170e+11</td>\n",
       "    </tr>\n",
       "    <tr>\n",
       "      <th>Operating Revenue</th>\n",
       "      <td>3.910350e+11</td>\n",
       "      <td>3.832850e+11</td>\n",
       "      <td>3.943280e+11</td>\n",
       "      <td>3.658170e+11</td>\n",
       "    </tr>\n",
       "  </tbody>\n",
       "</table>\n",
       "</div>"
      ]
     },
     "execution_count": 7,
     "metadata": {},
     "output_type": "execute_result"
    }
   ],
   "execution_count": 7
  },
  {
   "metadata": {
    "ExecuteTime": {
     "end_time": "2025-09-30T11:21:53.011679Z",
     "start_time": "2025-09-30T11:21:51.532962Z"
    }
   },
   "cell_type": "code",
   "source": [
    "print(type(apple.dividends))\n",
    "apple.dividends\n"
   ],
   "outputs": [
    {
     "name": "stdout",
     "output_type": "stream",
     "text": [
      "<class 'pandas.core.series.Series'>\n"
     ]
    },
    {
     "data": {
      "text/plain": [
       "Date\n",
       "1987-05-11 00:00:00-04:00    0.000536\n",
       "1987-08-10 00:00:00-04:00    0.000536\n",
       "1987-11-17 00:00:00-05:00    0.000714\n",
       "1988-02-12 00:00:00-05:00    0.000714\n",
       "1988-05-16 00:00:00-04:00    0.000714\n",
       "                               ...   \n",
       "2024-08-12 00:00:00-04:00    0.250000\n",
       "2024-11-08 00:00:00-05:00    0.250000\n",
       "2025-02-10 00:00:00-05:00    0.250000\n",
       "2025-05-12 00:00:00-04:00    0.260000\n",
       "2025-08-11 00:00:00-04:00    0.260000\n",
       "Name: Dividends, Length: 88, dtype: float64"
      ]
     },
     "execution_count": 8,
     "metadata": {},
     "output_type": "execute_result"
    }
   ],
   "execution_count": 8
  },
  {
   "cell_type": "markdown",
   "metadata": {},
   "source": [
    "### Extracting Share Price\n"
   ]
  },
  {
   "cell_type": "code",
   "metadata": {
    "ExecuteTime": {
     "end_time": "2025-09-30T11:29:59.792496Z",
     "start_time": "2025-09-30T11:29:58.435059Z"
    }
   },
   "source": [
    "apple_share_price_data = apple.history(period=\"max\")"
   ],
   "outputs": [],
   "execution_count": 17
  },
  {
   "cell_type": "markdown",
   "metadata": {},
   "source": [
    "The format that the data is returned in is a Pandas DataFrame. With the `Date` as the index the share `Open`, `High`, `Low`, `Close`, `Volume`, and `Stock Splits` are given for each day.\n"
   ]
  },
  {
   "cell_type": "code",
   "metadata": {
    "ExecuteTime": {
     "end_time": "2025-09-30T11:30:19.515670Z",
     "start_time": "2025-09-30T11:30:19.507753Z"
    }
   },
   "source": "apple_share_price_data.head()",
   "outputs": [
    {
     "data": {
      "text/plain": [
       "                               Open      High       Low     Close     Volume  \\\n",
       "Date                                                                           \n",
       "1980-12-12 00:00:00-05:00  0.098485  0.098913  0.098485  0.098485  469033600   \n",
       "1980-12-15 00:00:00-05:00  0.093775  0.093775  0.093347  0.093347  175884800   \n",
       "1980-12-16 00:00:00-05:00  0.086924  0.086924  0.086495  0.086495  105728000   \n",
       "1980-12-17 00:00:00-05:00  0.088636  0.089064  0.088636  0.088636   86441600   \n",
       "1980-12-18 00:00:00-05:00  0.091206  0.091634  0.091206  0.091206   73449600   \n",
       "\n",
       "                           Dividends  Stock Splits  \n",
       "Date                                                \n",
       "1980-12-12 00:00:00-05:00        0.0           0.0  \n",
       "1980-12-15 00:00:00-05:00        0.0           0.0  \n",
       "1980-12-16 00:00:00-05:00        0.0           0.0  \n",
       "1980-12-17 00:00:00-05:00        0.0           0.0  \n",
       "1980-12-18 00:00:00-05:00        0.0           0.0  "
      ],
      "text/html": [
       "<div>\n",
       "<style scoped>\n",
       "    .dataframe tbody tr th:only-of-type {\n",
       "        vertical-align: middle;\n",
       "    }\n",
       "\n",
       "    .dataframe tbody tr th {\n",
       "        vertical-align: top;\n",
       "    }\n",
       "\n",
       "    .dataframe thead th {\n",
       "        text-align: right;\n",
       "    }\n",
       "</style>\n",
       "<table border=\"1\" class=\"dataframe\">\n",
       "  <thead>\n",
       "    <tr style=\"text-align: right;\">\n",
       "      <th></th>\n",
       "      <th>Open</th>\n",
       "      <th>High</th>\n",
       "      <th>Low</th>\n",
       "      <th>Close</th>\n",
       "      <th>Volume</th>\n",
       "      <th>Dividends</th>\n",
       "      <th>Stock Splits</th>\n",
       "    </tr>\n",
       "    <tr>\n",
       "      <th>Date</th>\n",
       "      <th></th>\n",
       "      <th></th>\n",
       "      <th></th>\n",
       "      <th></th>\n",
       "      <th></th>\n",
       "      <th></th>\n",
       "      <th></th>\n",
       "    </tr>\n",
       "  </thead>\n",
       "  <tbody>\n",
       "    <tr>\n",
       "      <th>1980-12-12 00:00:00-05:00</th>\n",
       "      <td>0.098485</td>\n",
       "      <td>0.098913</td>\n",
       "      <td>0.098485</td>\n",
       "      <td>0.098485</td>\n",
       "      <td>469033600</td>\n",
       "      <td>0.0</td>\n",
       "      <td>0.0</td>\n",
       "    </tr>\n",
       "    <tr>\n",
       "      <th>1980-12-15 00:00:00-05:00</th>\n",
       "      <td>0.093775</td>\n",
       "      <td>0.093775</td>\n",
       "      <td>0.093347</td>\n",
       "      <td>0.093347</td>\n",
       "      <td>175884800</td>\n",
       "      <td>0.0</td>\n",
       "      <td>0.0</td>\n",
       "    </tr>\n",
       "    <tr>\n",
       "      <th>1980-12-16 00:00:00-05:00</th>\n",
       "      <td>0.086924</td>\n",
       "      <td>0.086924</td>\n",
       "      <td>0.086495</td>\n",
       "      <td>0.086495</td>\n",
       "      <td>105728000</td>\n",
       "      <td>0.0</td>\n",
       "      <td>0.0</td>\n",
       "    </tr>\n",
       "    <tr>\n",
       "      <th>1980-12-17 00:00:00-05:00</th>\n",
       "      <td>0.088636</td>\n",
       "      <td>0.089064</td>\n",
       "      <td>0.088636</td>\n",
       "      <td>0.088636</td>\n",
       "      <td>86441600</td>\n",
       "      <td>0.0</td>\n",
       "      <td>0.0</td>\n",
       "    </tr>\n",
       "    <tr>\n",
       "      <th>1980-12-18 00:00:00-05:00</th>\n",
       "      <td>0.091206</td>\n",
       "      <td>0.091634</td>\n",
       "      <td>0.091206</td>\n",
       "      <td>0.091206</td>\n",
       "      <td>73449600</td>\n",
       "      <td>0.0</td>\n",
       "      <td>0.0</td>\n",
       "    </tr>\n",
       "  </tbody>\n",
       "</table>\n",
       "</div>"
      ]
     },
     "execution_count": 20,
     "metadata": {},
     "output_type": "execute_result"
    }
   ],
   "execution_count": 20
  },
  {
   "cell_type": "code",
   "metadata": {
    "ExecuteTime": {
     "end_time": "2025-09-30T11:30:31.132561Z",
     "start_time": "2025-09-30T11:30:31.129351Z"
    }
   },
   "source": [
    "apple_share_price_data.reset_index(inplace=True)"
   ],
   "outputs": [],
   "execution_count": 21
  },
  {
   "metadata": {
    "ExecuteTime": {
     "end_time": "2025-09-30T11:30:41.956922Z",
     "start_time": "2025-09-30T11:30:41.946421Z"
    }
   },
   "cell_type": "code",
   "source": "apple_share_price_data",
   "outputs": [
    {
     "data": {
      "text/plain": [
       "                           Date        Open        High         Low  \\\n",
       "0     1980-12-12 00:00:00-05:00    0.098485    0.098913    0.098485   \n",
       "1     1980-12-15 00:00:00-05:00    0.093775    0.093775    0.093347   \n",
       "2     1980-12-16 00:00:00-05:00    0.086924    0.086924    0.086495   \n",
       "3     1980-12-17 00:00:00-05:00    0.088636    0.089064    0.088636   \n",
       "4     1980-12-18 00:00:00-05:00    0.091206    0.091634    0.091206   \n",
       "...                         ...         ...         ...         ...   \n",
       "11285 2025-09-23 00:00:00-04:00  255.880005  257.339996  253.580002   \n",
       "11286 2025-09-24 00:00:00-04:00  255.220001  255.740005  251.039993   \n",
       "11287 2025-09-25 00:00:00-04:00  253.210007  257.170013  251.710007   \n",
       "11288 2025-09-26 00:00:00-04:00  254.100006  257.600006  253.779999   \n",
       "11289 2025-09-29 00:00:00-04:00  254.559998  255.000000  253.009995   \n",
       "\n",
       "            Close     Volume  Dividends  Stock Splits  \n",
       "0        0.098485  469033600        0.0           0.0  \n",
       "1        0.093347  175884800        0.0           0.0  \n",
       "2        0.086495  105728000        0.0           0.0  \n",
       "3        0.088636   86441600        0.0           0.0  \n",
       "4        0.091206   73449600        0.0           0.0  \n",
       "...           ...        ...        ...           ...  \n",
       "11285  254.429993   60275200        0.0           0.0  \n",
       "11286  252.309998   42303700        0.0           0.0  \n",
       "11287  256.869995   55202100        0.0           0.0  \n",
       "11288  255.460007   46076300        0.0           0.0  \n",
       "11289  254.429993   40091100        0.0           0.0  \n",
       "\n",
       "[11290 rows x 8 columns]"
      ],
      "text/html": [
       "<div>\n",
       "<style scoped>\n",
       "    .dataframe tbody tr th:only-of-type {\n",
       "        vertical-align: middle;\n",
       "    }\n",
       "\n",
       "    .dataframe tbody tr th {\n",
       "        vertical-align: top;\n",
       "    }\n",
       "\n",
       "    .dataframe thead th {\n",
       "        text-align: right;\n",
       "    }\n",
       "</style>\n",
       "<table border=\"1\" class=\"dataframe\">\n",
       "  <thead>\n",
       "    <tr style=\"text-align: right;\">\n",
       "      <th></th>\n",
       "      <th>Date</th>\n",
       "      <th>Open</th>\n",
       "      <th>High</th>\n",
       "      <th>Low</th>\n",
       "      <th>Close</th>\n",
       "      <th>Volume</th>\n",
       "      <th>Dividends</th>\n",
       "      <th>Stock Splits</th>\n",
       "    </tr>\n",
       "  </thead>\n",
       "  <tbody>\n",
       "    <tr>\n",
       "      <th>0</th>\n",
       "      <td>1980-12-12 00:00:00-05:00</td>\n",
       "      <td>0.098485</td>\n",
       "      <td>0.098913</td>\n",
       "      <td>0.098485</td>\n",
       "      <td>0.098485</td>\n",
       "      <td>469033600</td>\n",
       "      <td>0.0</td>\n",
       "      <td>0.0</td>\n",
       "    </tr>\n",
       "    <tr>\n",
       "      <th>1</th>\n",
       "      <td>1980-12-15 00:00:00-05:00</td>\n",
       "      <td>0.093775</td>\n",
       "      <td>0.093775</td>\n",
       "      <td>0.093347</td>\n",
       "      <td>0.093347</td>\n",
       "      <td>175884800</td>\n",
       "      <td>0.0</td>\n",
       "      <td>0.0</td>\n",
       "    </tr>\n",
       "    <tr>\n",
       "      <th>2</th>\n",
       "      <td>1980-12-16 00:00:00-05:00</td>\n",
       "      <td>0.086924</td>\n",
       "      <td>0.086924</td>\n",
       "      <td>0.086495</td>\n",
       "      <td>0.086495</td>\n",
       "      <td>105728000</td>\n",
       "      <td>0.0</td>\n",
       "      <td>0.0</td>\n",
       "    </tr>\n",
       "    <tr>\n",
       "      <th>3</th>\n",
       "      <td>1980-12-17 00:00:00-05:00</td>\n",
       "      <td>0.088636</td>\n",
       "      <td>0.089064</td>\n",
       "      <td>0.088636</td>\n",
       "      <td>0.088636</td>\n",
       "      <td>86441600</td>\n",
       "      <td>0.0</td>\n",
       "      <td>0.0</td>\n",
       "    </tr>\n",
       "    <tr>\n",
       "      <th>4</th>\n",
       "      <td>1980-12-18 00:00:00-05:00</td>\n",
       "      <td>0.091206</td>\n",
       "      <td>0.091634</td>\n",
       "      <td>0.091206</td>\n",
       "      <td>0.091206</td>\n",
       "      <td>73449600</td>\n",
       "      <td>0.0</td>\n",
       "      <td>0.0</td>\n",
       "    </tr>\n",
       "    <tr>\n",
       "      <th>...</th>\n",
       "      <td>...</td>\n",
       "      <td>...</td>\n",
       "      <td>...</td>\n",
       "      <td>...</td>\n",
       "      <td>...</td>\n",
       "      <td>...</td>\n",
       "      <td>...</td>\n",
       "      <td>...</td>\n",
       "    </tr>\n",
       "    <tr>\n",
       "      <th>11285</th>\n",
       "      <td>2025-09-23 00:00:00-04:00</td>\n",
       "      <td>255.880005</td>\n",
       "      <td>257.339996</td>\n",
       "      <td>253.580002</td>\n",
       "      <td>254.429993</td>\n",
       "      <td>60275200</td>\n",
       "      <td>0.0</td>\n",
       "      <td>0.0</td>\n",
       "    </tr>\n",
       "    <tr>\n",
       "      <th>11286</th>\n",
       "      <td>2025-09-24 00:00:00-04:00</td>\n",
       "      <td>255.220001</td>\n",
       "      <td>255.740005</td>\n",
       "      <td>251.039993</td>\n",
       "      <td>252.309998</td>\n",
       "      <td>42303700</td>\n",
       "      <td>0.0</td>\n",
       "      <td>0.0</td>\n",
       "    </tr>\n",
       "    <tr>\n",
       "      <th>11287</th>\n",
       "      <td>2025-09-25 00:00:00-04:00</td>\n",
       "      <td>253.210007</td>\n",
       "      <td>257.170013</td>\n",
       "      <td>251.710007</td>\n",
       "      <td>256.869995</td>\n",
       "      <td>55202100</td>\n",
       "      <td>0.0</td>\n",
       "      <td>0.0</td>\n",
       "    </tr>\n",
       "    <tr>\n",
       "      <th>11288</th>\n",
       "      <td>2025-09-26 00:00:00-04:00</td>\n",
       "      <td>254.100006</td>\n",
       "      <td>257.600006</td>\n",
       "      <td>253.779999</td>\n",
       "      <td>255.460007</td>\n",
       "      <td>46076300</td>\n",
       "      <td>0.0</td>\n",
       "      <td>0.0</td>\n",
       "    </tr>\n",
       "    <tr>\n",
       "      <th>11289</th>\n",
       "      <td>2025-09-29 00:00:00-04:00</td>\n",
       "      <td>254.559998</td>\n",
       "      <td>255.000000</td>\n",
       "      <td>253.009995</td>\n",
       "      <td>254.429993</td>\n",
       "      <td>40091100</td>\n",
       "      <td>0.0</td>\n",
       "      <td>0.0</td>\n",
       "    </tr>\n",
       "  </tbody>\n",
       "</table>\n",
       "<p>11290 rows × 8 columns</p>\n",
       "</div>"
      ]
     },
     "execution_count": 22,
     "metadata": {},
     "output_type": "execute_result"
    }
   ],
   "execution_count": 22
  },
  {
   "cell_type": "markdown",
   "metadata": {},
   "source": [
    "We can plot the `Open` price against the `Date`:\n"
   ]
  },
  {
   "cell_type": "code",
   "metadata": {
    "ExecuteTime": {
     "end_time": "2025-09-30T11:31:09.421192Z",
     "start_time": "2025-09-30T11:31:09.123686Z"
    }
   },
   "source": [
    "apple_share_price_data.plot(x=\"Date\", y=\"Open\")"
   ],
   "outputs": [
    {
     "data": {
      "text/plain": [
       "<Axes: xlabel='Date'>"
      ]
     },
     "execution_count": 23,
     "metadata": {},
     "output_type": "execute_result"
    },
    {
     "data": {
      "text/plain": [
       "<Figure size 640x480 with 1 Axes>"
      ],
      "image/png": "[encoded data removed]"
     },
     "metadata": {},
     "output_type": "display_data"
    }
   ],
   "execution_count": 23
  },
  {
   "cell_type": "markdown",
   "metadata": {},
   "source": [
    "### Extracting Dividends\n"
   ]
  },
  {
   "cell_type": "code",
   "metadata": {
    "ExecuteTime": {
     "end_time": "2025-09-30T11:32:07.991203Z",
     "start_time": "2025-09-30T11:32:07.986773Z"
    }
   },
   "source": [
    "apple.dividends"
   ],
   "outputs": [
    {
     "data": {
      "text/plain": [
       "Date\n",
       "1987-05-11 00:00:00-04:00    0.000536\n",
       "1987-08-10 00:00:00-04:00    0.000536\n",
       "1987-11-17 00:00:00-05:00    0.000714\n",
       "1988-02-12 00:00:00-05:00    0.000714\n",
       "1988-05-16 00:00:00-04:00    0.000714\n",
       "                               ...   \n",
       "2024-08-12 00:00:00-04:00    0.250000\n",
       "2024-11-08 00:00:00-05:00    0.250000\n",
       "2025-02-10 00:00:00-05:00    0.250000\n",
       "2025-05-12 00:00:00-04:00    0.260000\n",
       "2025-08-11 00:00:00-04:00    0.260000\n",
       "Name: Dividends, Length: 88, dtype: float64"
      ]
     },
     "execution_count": 24,
     "metadata": {},
     "output_type": "execute_result"
    }
   ],
   "execution_count": 24
  },
  {
   "cell_type": "markdown",
   "metadata": {},
   "source": [
    "We can plot the dividends overtime:\n"
   ]
  },
  {
   "cell_type": "code",
   "metadata": {
    "ExecuteTime": {
     "end_time": "2025-09-30T11:32:40.357968Z",
     "start_time": "2025-09-30T11:32:40.225749Z"
    }
   },
   "source": [
    "apple.dividends.plot()"
   ],
   "outputs": [
    {
     "data": {
      "text/plain": [
       "<Axes: xlabel='Date'>"
      ]
     },
     "execution_count": 25,
     "metadata": {},
     "output_type": "execute_result"
    },
    {
     "data": {
      "text/plain": [
       "<Figure size 640x480 with 1 Axes>"
      ],
      "image/png": "[encoded data removed]"
     },
     "metadata": {},
     "output_type": "display_data"
    }
   ],
   "execution_count": 25
  },
  {
   "cell_type": "markdown",
   "metadata": {},
   "source": "## Lets do the same with AMD\n"
  },
  {
   "cell_type": "code",
   "metadata": {
    "ExecuteTime": {
     "end_time": "2025-09-30T11:33:03.498699Z",
     "start_time": "2025-09-30T11:33:03.496519Z"
    }
   },
   "source": "amd = yf.Ticker(\"AMD\")",
   "outputs": [],
   "execution_count": 26
  },
  {
   "cell_type": "code",
   "metadata": {
    "ExecuteTime": {
     "end_time": "2025-09-30T11:33:47.667636Z",
     "start_time": "2025-09-30T11:33:47.665610Z"
    }
   },
   "source": "url = 'https://cf-courses-data.s3.us.cloud-object-storage.appdomain.cloud/IBMDeveloperSkillsNetwork-PY0220EN-SkillsNetwork/data/amd.json'",
   "outputs": [],
   "execution_count": 28
  },
  {
   "metadata": {
    "ExecuteTime": {
     "end_time": "2025-09-30T11:38:03.259974Z",
     "start_time": "2025-09-30T11:38:01.793193Z"
    }
   },
   "cell_type": "code",
   "source": [
    "import requests\n",
    "headers = {\n",
    "    \"User-Agent\": \"Mozilla/5.0 (Windows NT 10.0; Win64; x64) AppleWebKit/537.36 (KHTML, like Gecko) Chrome/108.0.0.0 Safari/537.36\"\n",
    "}\n",
    "response = requests.get(url,headers=headers)\n",
    "if response.status_code == 200:\n",
    "    with open(\"amd.json\",\"w\") as f:\n",
    "        f.write(response.text)\n",
    "\n",
    "    with open('amd.json','r') as f:\n",
    "        data2 = json.load(f)\n",
    "\n",
    "    with open('amd.json','w') as f:\n",
    "        json.dump(data,f,indent=4)\n"
   ],
   "outputs": [],
   "execution_count": 31
  },
  {
   "metadata": {
    "ExecuteTime": {
     "end_time": "2025-09-30T11:38:04.796312Z",
     "start_time": "2025-09-30T11:38:04.793225Z"
    }
   },
   "cell_type": "code",
   "source": "data2[\"country\"]",
   "outputs": [
    {
     "data": {
      "text/plain": [
       "'United States'"
      ]
     },
     "execution_count": 32,
     "metadata": {},
     "output_type": "execute_result"
    }
   ],
   "execution_count": 32
  },
  {
   "metadata": {
    "ExecuteTime": {
     "end_time": "2025-09-30T11:38:39.098432Z",
     "start_time": "2025-09-30T11:38:39.095379Z"
    }
   },
   "cell_type": "code",
   "source": "data2[\"sector\"]",
   "outputs": [
    {
     "data": {
      "text/plain": [
       "'Technology'"
      ]
     },
     "execution_count": 33,
     "metadata": {},
     "output_type": "execute_result"
    }
   ],
   "execution_count": 33
  },
  {
   "cell_type": "code",
   "metadata": {
    "ExecuteTime": {
     "end_time": "2025-09-30T11:39:11.770776Z",
     "start_time": "2025-09-30T11:39:10.619091Z"
    }
   },
   "source": "amd_history = amd.history(period=\"max\")",
   "outputs": [],
   "execution_count": 35
  },
  {
   "metadata": {
    "ExecuteTime": {
     "end_time": "2025-09-30T11:41:13.704447Z",
     "start_time": "2025-09-30T11:41:13.700987Z"
    }
   },
   "cell_type": "code",
   "source": "amd_history.reset_index(inplace = True)",
   "outputs": [],
   "execution_count": 40
  },
  {
   "metadata": {
    "ExecuteTime": {
     "end_time": "2025-09-30T11:41:20.801846Z",
     "start_time": "2025-09-30T11:41:20.789395Z"
    }
   },
   "cell_type": "code",
   "source": "amd_history",
   "outputs": [
    {
     "data": {
      "text/plain": [
       "                           Date        Open        High         Low  \\\n",
       "0     1980-03-17 00:00:00-05:00    3.125000    3.302083    3.125000   \n",
       "1     1980-03-18 00:00:00-05:00    3.125000    3.125000    2.937500   \n",
       "2     1980-03-19 00:00:00-05:00    3.031250    3.083333    3.020833   \n",
       "3     1980-03-20 00:00:00-05:00    3.041667    3.062500    3.010417   \n",
       "4     1980-03-21 00:00:00-05:00    3.010417    3.020833    2.906250   \n",
       "...                         ...         ...         ...         ...   \n",
       "11473 2025-09-23 00:00:00-04:00  160.520004  163.389999  159.210007   \n",
       "11474 2025-09-24 00:00:00-04:00  162.979996  165.100006  158.429993   \n",
       "11475 2025-09-25 00:00:00-04:00  157.139999  161.630005  154.779999   \n",
       "11476 2025-09-26 00:00:00-04:00  160.520004  162.110001  157.050003   \n",
       "11477 2025-09-29 00:00:00-04:00  160.119995  164.300003  159.899994   \n",
       "\n",
       "            Close    Volume  Dividends  Stock Splits  \n",
       "0        3.145833    219600        0.0           0.0  \n",
       "1        3.031250    727200        0.0           0.0  \n",
       "2        3.041667    295200        0.0           0.0  \n",
       "3        3.010417    159600        0.0           0.0  \n",
       "4        2.916667    130800        0.0           0.0  \n",
       "...           ...       ...        ...           ...  \n",
       "11473  160.899994  39448300        0.0           0.0  \n",
       "11474  160.880005  38464100        0.0           0.0  \n",
       "11475  161.270004  36809900        0.0           0.0  \n",
       "11476  159.460007  30316900        0.0           0.0  \n",
       "11477  161.360001  39771800        0.0           0.0  \n",
       "\n",
       "[11478 rows x 8 columns]"
      ],
      "text/html": [
       "<div>\n",
       "<style scoped>\n",
       "    .dataframe tbody tr th:only-of-type {\n",
       "        vertical-align: middle;\n",
       "    }\n",
       "\n",
       "    .dataframe tbody tr th {\n",
       "        vertical-align: top;\n",
       "    }\n",
       "\n",
       "    .dataframe thead th {\n",
       "        text-align: right;\n",
       "    }\n",
       "</style>\n",
       "<table border=\"1\" class=\"dataframe\">\n",
       "  <thead>\n",
       "    <tr style=\"text-align: right;\">\n",
       "      <th></th>\n",
       "      <th>Date</th>\n",
       "      <th>Open</th>\n",
       "      <th>High</th>\n",
       "      <th>Low</th>\n",
       "      <th>Close</th>\n",
       "      <th>Volume</th>\n",
       "      <th>Dividends</th>\n",
       "      <th>Stock Splits</th>\n",
       "    </tr>\n",
       "  </thead>\n",
       "  <tbody>\n",
       "    <tr>\n",
       "      <th>0</th>\n",
       "      <td>1980-03-17 00:00:00-05:00</td>\n",
       "      <td>3.125000</td>\n",
       "      <td>3.302083</td>\n",
       "      <td>3.125000</td>\n",
       "      <td>3.145833</td>\n",
       "      <td>219600</td>\n",
       "      <td>0.0</td>\n",
       "      <td>0.0</td>\n",
       "    </tr>\n",
       "    <tr>\n",
       "      <th>1</th>\n",
       "      <td>1980-03-18 00:00:00-05:00</td>\n",
       "      <td>3.125000</td>\n",
       "      <td>3.125000</td>\n",
       "      <td>2.937500</td>\n",
       "      <td>3.031250</td>\n",
       "      <td>727200</td>\n",
       "      <td>0.0</td>\n",
       "      <td>0.0</td>\n",
       "    </tr>\n",
       "    <tr>\n",
       "      <th>2</th>\n",
       "      <td>1980-03-19 00:00:00-05:00</td>\n",
       "      <td>3.031250</td>\n",
       "      <td>3.083333</td>\n",
       "      <td>3.020833</td>\n",
       "      <td>3.041667</td>\n",
       "      <td>295200</td>\n",
       "      <td>0.0</td>\n",
       "      <td>0.0</td>\n",
       "    </tr>\n",
       "    <tr>\n",
       "      <th>3</th>\n",
       "      <td>1980-03-20 00:00:00-05:00</td>\n",
       "      <td>3.041667</td>\n",
       "      <td>3.062500</td>\n",
       "      <td>3.010417</td>\n",
       "      <td>3.010417</td>\n",
       "      <td>159600</td>\n",
       "      <td>0.0</td>\n",
       "      <td>0.0</td>\n",
       "    </tr>\n",
       "    <tr>\n",
       "      <th>4</th>\n",
       "      <td>1980-03-21 00:00:00-05:00</td>\n",
       "      <td>3.010417</td>\n",
       "      <td>3.020833</td>\n",
       "      <td>2.906250</td>\n",
       "      <td>2.916667</td>\n",
       "      <td>130800</td>\n",
       "      <td>0.0</td>\n",
       "      <td>0.0</td>\n",
       "    </tr>\n",
       "    <tr>\n",
       "      <th>...</th>\n",
       "      <td>...</td>\n",
       "      <td>...</td>\n",
       "      <td>...</td>\n",
       "      <td>...</td>\n",
       "      <td>...</td>\n",
       "      <td>...</td>\n",
       "      <td>...</td>\n",
       "      <td>...</td>\n",
       "    </tr>\n",
       "    <tr>\n",
       "      <th>11473</th>\n",
       "      <td>2025-09-23 00:00:00-04:00</td>\n",
       "      <td>160.520004</td>\n",
       "      <td>163.389999</td>\n",
       "      <td>159.210007</td>\n",
       "      <td>160.899994</td>\n",
       "      <td>39448300</td>\n",
       "      <td>0.0</td>\n",
       "      <td>0.0</td>\n",
       "    </tr>\n",
       "    <tr>\n",
       "      <th>11474</th>\n",
       "      <td>2025-09-24 00:00:00-04:00</td>\n",
       "      <td>162.979996</td>\n",
       "      <td>165.100006</td>\n",
       "      <td>158.429993</td>\n",
       "      <td>160.880005</td>\n",
       "      <td>38464100</td>\n",
       "      <td>0.0</td>\n",
       "      <td>0.0</td>\n",
       "    </tr>\n",
       "    <tr>\n",
       "      <th>11475</th>\n",
       "      <td>2025-09-25 00:00:00-04:00</td>\n",
       "      <td>157.139999</td>\n",
       "      <td>161.630005</td>\n",
       "      <td>154.779999</td>\n",
       "      <td>161.270004</td>\n",
       "      <td>36809900</td>\n",
       "      <td>0.0</td>\n",
       "      <td>0.0</td>\n",
       "    </tr>\n",
       "    <tr>\n",
       "      <th>11476</th>\n",
       "      <td>2025-09-26 00:00:00-04:00</td>\n",
       "      <td>160.520004</td>\n",
       "      <td>162.110001</td>\n",
       "      <td>157.050003</td>\n",
       "      <td>159.460007</td>\n",
       "      <td>30316900</td>\n",
       "      <td>0.0</td>\n",
       "      <td>0.0</td>\n",
       "    </tr>\n",
       "    <tr>\n",
       "      <th>11477</th>\n",
       "      <td>2025-09-29 00:00:00-04:00</td>\n",
       "      <td>160.119995</td>\n",
       "      <td>164.300003</td>\n",
       "      <td>159.899994</td>\n",
       "      <td>161.360001</td>\n",
       "      <td>39771800</td>\n",
       "      <td>0.0</td>\n",
       "      <td>0.0</td>\n",
       "    </tr>\n",
       "  </tbody>\n",
       "</table>\n",
       "<p>11478 rows × 8 columns</p>\n",
       "</div>"
      ]
     },
     "execution_count": 41,
     "metadata": {},
     "output_type": "execute_result"
    }
   ],
   "execution_count": 41
  },
  {
   "cell_type": "code",
   "metadata": {
    "ExecuteTime": {
     "end_time": "2025-09-30T11:41:27.972640Z",
     "start_time": "2025-09-30T11:41:27.969419Z"
    }
   },
   "source": "amd_history.iloc[0,5]",
   "outputs": [
    {
     "data": {
      "text/plain": [
       "np.int64(219600)"
      ]
     },
     "execution_count": 42,
     "metadata": {},
     "output_type": "execute_result"
    }
   ],
   "execution_count": 42
  },
  {
   "metadata": {},
   "cell_type": "markdown",
   "source": "# THANK YOUUU :)"
  },
  {
   "metadata": {},
   "cell_type": "code",
   "outputs": [],
   "execution_count": null,
   "source": ""
  }
 ],
 "metadata": {
  "kernelspec": {
   "display_name": "Python 3 (ipykernel)",
   "language": "python",
   "name": "python3"
  },
  "language_info": {
   "codemirror_mode": {
    "name": "ipython",
    "version": 3
   },
   "file_extension": ".py",
   "mimetype": "text/x-python",
   "name": "python",
   "nbconvert_exporter": "python",
   "pygments_lexer": "ipython3",
   "version": "3.12.8"
  },
  "prev_pub_hash": "62faa850bc8281ce7e26921454248cbaba89b3dee85cbce43a1a81bdf8191b44"
 },
 "nbformat": 4,
 "nbformat_minor": 4
}
